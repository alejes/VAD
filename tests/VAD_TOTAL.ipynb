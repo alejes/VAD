{
 "cells": [
  {
   "cell_type": "code",
   "execution_count": 1,
   "metadata": {
    "collapsed": true
   },
   "outputs": [],
   "source": [
    "from matplotlib.colors import ListedColormap\n",
    "from sklearn import cross_validation, datasets, linear_model, metrics\n",
    "from pandas import read_csv, concat, DataFrame\n",
    "import matplotlib.pyplot as plt\n",
    "import numpy as np\n",
    "from sklearn import svm, datasets\n",
    "from sklearn.metrics import roc_curve, auc\n",
    "from sklearn.cross_validation import train_test_split\n",
    "from sklearn.preprocessing import label_binarize\n",
    "from sklearn.multiclass import OneVsRestClassifier\n",
    "from scipy import interp"
   ]
  },
  {
   "cell_type": "code",
   "execution_count": 2,
   "metadata": {
    "collapsed": false
   },
   "outputs": [],
   "source": [
    "#%pylab inline"
   ]
  },
  {
   "cell_type": "code",
   "execution_count": 3,
   "metadata": {
    "collapsed": false
   },
   "outputs": [],
   "source": [
    "allIndic = [\"zcr\", \"mfcc\", \"energy\", \"autoc\"]\n",
    "type  = \"max\"\n",
    "all = True\n",
    "useSilent = True\n",
    "if useSilent:\n",
    "    dataSets = [\"noice\", \"silent\", \"voice\"]\n",
    "else:\n",
    "    dataSets = [\"noice\", \"voice\"]"
   ]
  },
  {
   "cell_type": "code",
   "execution_count": 4,
   "metadata": {
    "collapsed": false
   },
   "outputs": [],
   "source": [
    "data = None\n",
    "data_answer = np.array([])\n",
    "for dataSet in dataSets:\n",
    "    currentData = DataFrame({})\n",
    "    for indic in allIndic:\n",
    "        file = dataSet + \"_anal/anal_\" + indic + \".txt\"\n",
    "        csv = read_csv(file, \"\\t\")\n",
    "        currentData = concat([currentData, csv], axis=1, join='inner')\n",
    "        #print(csv)\n",
    "    if data is None:\n",
    "        data = currentData\n",
    "    else:\n",
    "        data = concat([data,currentData], axis=0)\n",
    "        #print(data)\n",
    "    if dataSet == \"voice\":\n",
    "        #print(\"voice\")\n",
    "        data_answer = np.concatenate((data_answer, np.ones(currentData[\"zcr_sum\"].size)))\n",
    "    else:\n",
    "        #print(\"not voice\")\n",
    "        data_answer = np.concatenate((data_answer, np.zeros(currentData[\"zcr_sum\"].size)))\n",
    "    \n",
    "    \n",
    "  \n",
    "        "
   ]
  },
  {
   "cell_type": "code",
   "execution_count": 5,
   "metadata": {
    "collapsed": false
   },
   "outputs": [
    {
     "name": "stdout",
     "output_type": "stream",
     "text": [
      "3784\n"
     ]
    }
   ],
   "source": [
    "#print(data.keys)\n",
    "print (data_answer.size)"
   ]
  },
  {
   "cell_type": "code",
   "execution_count": 6,
   "metadata": {
    "collapsed": false
   },
   "outputs": [
    {
     "name": "stdout",
     "output_type": "stream",
     "text": [
      "   zcr_sum   zcr_avg   zcr_min   zcr_max  mfcc_sum  mfcc_avg  mfcc_min  \\\n",
      "0    202.0  0.197266  0.197266  0.197266 -0.002441 -0.000005 -0.497131   \n",
      "1    316.0  0.308594  0.308594  0.308594  0.002319  0.000002 -0.018280   \n",
      "2    118.0  0.115234  0.115234  0.115234  0.003296  0.000003 -0.003510   \n",
      "3    369.0  0.360352  0.360352  0.360352 -0.002869 -0.000003 -0.001343   \n",
      "4    294.0  0.287109  0.287109  0.287109  0.002472  0.000002 -0.001038   \n",
      "\n",
      "   mfcc_max   energy_sum  energy_avg  energy_min  energy_max  energy_value  \\\n",
      "0  0.210632     0.000000    0.000000    0.000000    0.000000      0.000000   \n",
      "1  0.018188  1271.336925    0.620770    0.620770    0.620770      0.385355   \n",
      "2  0.002716    33.460710    0.032676    0.032676    0.032676      0.001068   \n",
      "3  0.001801    12.694195    0.012397    0.012397    0.012397      0.000154   \n",
      "4  0.001190    12.144274    0.011860    0.011860    0.011860      0.000141   \n",
      "\n",
      "   autoc_sum     autoc_avg  autoc_min  autoc_max  \n",
      "0   0.188753  1.843295e-04  -0.068995   0.377432  \n",
      "1   0.004001  3.906745e-06  -0.001608   0.007924  \n",
      "2   0.000539  5.266675e-07  -0.000624   0.001068  \n",
      "3   0.000081  7.905601e-08  -0.000032   0.000154  \n",
      "4   0.000073  7.166091e-08  -0.000049   0.000141  \n"
     ]
    }
   ],
   "source": [
    "print(data[:5])"
   ]
  },
  {
   "cell_type": "raw",
   "metadata": {},
   "source": []
  },
  {
   "cell_type": "code",
   "execution_count": 7,
   "metadata": {
    "collapsed": false
   },
   "outputs": [
    {
     "name": "stdout",
     "output_type": "stream",
     "text": [
      "3784\n"
     ]
    }
   ],
   "source": [
    "print(data[\"zcr_sum\"].size)"
   ]
  },
  {
   "cell_type": "code",
   "execution_count": 8,
   "metadata": {
    "collapsed": false
   },
   "outputs": [
    {
     "data": {
      "text/plain": [
       "<mtrand.RandomState at 0x4c3b0894e0>"
      ]
     },
     "execution_count": 8,
     "metadata": {},
     "output_type": "execute_result"
    }
   ],
   "source": [
    "np.random.RandomState(seed =1)"
   ]
  },
  {
   "cell_type": "code",
   "execution_count": 9,
   "metadata": {
    "collapsed": false
   },
   "outputs": [],
   "source": [
    "if all:\n",
    "    train_data, test_data, train_labels, test_labels = cross_validation.train_test_split(data, data_answer, \n",
    "                                                                                    test_size = 0.3,\n",
    "                                                                                    random_state = 1)\n",
    "else:\n",
    "    train_data, test_data, train_labels, test_labels = cross_validation.train_test_split(data[type], data_answer, \n",
    "                                                                                    test_size = 0.3,\n",
    "                                                                                    random_state = 1)"
   ]
  },
  {
   "cell_type": "markdown",
   "metadata": {},
   "source": [
    "### Свой классификатор"
   ]
  },
  {
   "cell_type": "code",
   "execution_count": 10,
   "metadata": {
    "collapsed": false
   },
   "outputs": [],
   "source": [
    "def energy_result(x_in):\n",
    "    x = np.array([x_in[8], x_in[9], x_in[10], x_in[11]])\n",
    "    if x_in[12] < 0.02:\n",
    "        return -10\n",
    "    add = 0\n",
    "    #if abs(x[0]) < 0.02:\n",
    "#            add -= 10\n",
    "    return (-0.43582075 + np.dot(x, [-5.19400273e-05, 7.44976464e-01, 7.44976464e-01, 7.44976464e-01]) > 0) +  add"
   ]
  },
  {
   "cell_type": "code",
   "execution_count": 11,
   "metadata": {
    "collapsed": false
   },
   "outputs": [],
   "source": [
    "def zcr_result(x_in):\n",
    "    x = np.array([x_in[0], x_in[1], x_in[2], x_in[3]])\n",
    "    add = 1.2667888\n",
    "    return (np.dot(x, [6.03061087e-04, -1.87091677e+00, -1.87091677e+00, -1.87091677e+00]) +  add) > 0"
   ]
  },
  {
   "cell_type": "code",
   "execution_count": 12,
   "metadata": {
    "collapsed": false
   },
   "outputs": [],
   "source": [
    "def mfcc_result(x_in):\n",
    "    x = np.array([x_in[4], x_in[5], x_in[6], x_in[7]])\n",
    "    add = 0.61336651\n",
    "    return (np.dot(x,  [-8.70000408e-02, -4.49398273e-04, 5.31164313e+00, 2.36476296e+00]) +  add) > 0"
   ]
  },
  {
   "cell_type": "code",
   "execution_count": 13,
   "metadata": {
    "collapsed": true
   },
   "outputs": [],
   "source": [
    "def autoc_result(x_in):\n",
    "    x = np.array([x_in[13], x_in[14], x_in[15], x_in[16]])\n",
    "    add = 0.59867863\n",
    "    return (np.dot(x,  [-0.15975306,  0.0412668 , -0.41195572, -0.15356962]) +  add) > 0"
   ]
  },
  {
   "cell_type": "code",
   "execution_count": 14,
   "metadata": {
    "collapsed": false
   },
   "outputs": [],
   "source": [
    "def summary(x):\n",
    "    return energy_result(x) + mfcc_result(x) + zcr_result(x) >= 2"
   ]
  },
  {
   "cell_type": "code",
   "execution_count": 15,
   "metadata": {
    "collapsed": false
   },
   "outputs": [],
   "source": [
    "def summary_score(x):\n",
    "    res = energy_result(x) + mfcc_result(x) + zcr_result(x)\n",
    "    if res <= 0:\n",
    "        return -1.0\n",
    "    elif res == 1:\n",
    "        return -0.25\n",
    "    elif res == 2:\n",
    "        return 0.25\n",
    "    else:\n",
    "        return 1.0"
   ]
  },
  {
   "cell_type": "code",
   "execution_count": 16,
   "metadata": {
    "collapsed": false
   },
   "outputs": [],
   "source": [
    "#list(map(lambda x:  summary(x), test_data.values))"
   ]
  },
  {
   "cell_type": "code",
   "execution_count": 17,
   "metadata": {
    "collapsed": false
   },
   "outputs": [],
   "source": [
    "myown_predictions = np.array(list(map(lambda x: 1 if summary(x) else 0, test_data.values)))"
   ]
  },
  {
   "cell_type": "code",
   "execution_count": 18,
   "metadata": {
    "collapsed": false
   },
   "outputs": [],
   "source": [
    "myown_score = np.array(list(map(lambda x: summary_score(x), test_data.values)))"
   ]
  },
  {
   "cell_type": "code",
   "execution_count": 19,
   "metadata": {
    "collapsed": false
   },
   "outputs": [],
   "source": [
    "#print(myown_score)"
   ]
  },
  {
   "cell_type": "code",
   "execution_count": 20,
   "metadata": {
    "collapsed": false
   },
   "outputs": [],
   "source": [
    "#print(myown_predictions[0:50])"
   ]
  },
  {
   "cell_type": "code",
   "execution_count": 21,
   "metadata": {
    "collapsed": false
   },
   "outputs": [],
   "source": [
    "#print (test_labels[0:50])"
   ]
  },
  {
   "cell_type": "code",
   "execution_count": null,
   "metadata": {
    "collapsed": false
   },
   "outputs": [],
   "source": []
  },
  {
   "cell_type": "code",
   "execution_count": 22,
   "metadata": {
    "collapsed": false
   },
   "outputs": [
    {
     "data": {
      "text/plain": [
       "0.85915492957746475"
      ]
     },
     "execution_count": 22,
     "metadata": {},
     "output_type": "execute_result"
    }
   ],
   "source": [
    "metrics.accuracy_score(test_labels, myown_predictions)"
   ]
  },
  {
   "cell_type": "code",
   "execution_count": 23,
   "metadata": {
    "collapsed": false
   },
   "outputs": [
    {
     "data": {
      "text/plain": [
       "0.86113886113886107"
      ]
     },
     "execution_count": 23,
     "metadata": {},
     "output_type": "execute_result"
    }
   ],
   "source": [
    "metrics.roc_auc_score(test_labels, myown_predictions)"
   ]
  },
  {
   "cell_type": "code",
   "execution_count": 24,
   "metadata": {
    "collapsed": false
   },
   "outputs": [],
   "source": [
    "#metrics.pr_auc_score(test_labels, myown_predictions)"
   ]
  },
  {
   "cell_type": "code",
   "execution_count": 25,
   "metadata": {
    "collapsed": false
   },
   "outputs": [
    {
     "data": {
      "text/plain": [
       "0.8214285714285714"
      ]
     },
     "execution_count": 25,
     "metadata": {},
     "output_type": "execute_result"
    }
   ],
   "source": [
    "metrics.precision_score(test_labels, myown_predictions, pos_label = 0) #шум"
   ]
  },
  {
   "cell_type": "code",
   "execution_count": 26,
   "metadata": {
    "collapsed": false
   },
   "outputs": [
    {
     "data": {
      "text/plain": [
       "0.89583333333333337"
      ]
     },
     "execution_count": 26,
     "metadata": {},
     "output_type": "execute_result"
    }
   ],
   "source": [
    "metrics.precision_score(test_labels, myown_predictions, pos_label = 1) #речь"
   ]
  },
  {
   "cell_type": "code",
   "execution_count": null,
   "metadata": {
    "collapsed": false
   },
   "outputs": [],
   "source": [
    " "
   ]
  },
  {
   "cell_type": "code",
   "execution_count": 27,
   "metadata": {
    "collapsed": false
   },
   "outputs": [
    {
     "ename": "TypeError",
     "evalue": "'str' object is not callable",
     "output_type": "error",
     "traceback": [
      "\u001b[1;31m---------------------------------------------------------------------------\u001b[0m",
      "\u001b[1;31mTypeError\u001b[0m                                 Traceback (most recent call last)",
      "\u001b[1;32m<ipython-input-27-043d497491b6>\u001b[0m in \u001b[0;36m<module>\u001b[1;34m()\u001b[0m\n\u001b[1;32m----> 1\u001b[1;33m \u001b[0mprint\u001b[0m\u001b[1;33m(\u001b[0m\u001b[0mtype\u001b[0m\u001b[1;33m(\u001b[0m\u001b[0mmyown_predictions\u001b[0m\u001b[1;33m)\u001b[0m\u001b[1;33m)\u001b[0m\u001b[1;33m\u001b[0m\u001b[0m\n\u001b[0m",
      "\u001b[1;31mTypeError\u001b[0m: 'str' object is not callable"
     ]
    }
   ],
   "source": [
    "print(type(myown_predictions))"
   ]
  },
  {
   "cell_type": "code",
   "execution_count": 28,
   "metadata": {
    "collapsed": false
   },
   "outputs": [
    {
     "name": "stdout",
     "output_type": "stream",
     "text": [
      "0\n",
      "1\n"
     ]
    }
   ],
   "source": [
    "# Compute ROC curve and ROC area for each class\n",
    "fpr = dict()\n",
    "tpr = dict()\n",
    "roc_auc = dict()\n",
    "\n",
    "#fpr, tpr, thresholds = metrics.roc_curve(test_labels, myown_predictions)\n",
    "#roc_auc = auc(y_true, y_score)\n",
    "for i in range(2):\n",
    "    print(i)\n",
    "    fpr[i], tpr[i], _ = metrics.roc_curve(test_labels, myown_predictions)\n",
    "    roc_auc[i] = metrics.auc(fpr[i], tpr[i])"
   ]
  },
  {
   "cell_type": "code",
   "execution_count": null,
   "metadata": {
    "collapsed": false
   },
   "outputs": [],
   "source": []
  },
  {
   "cell_type": "code",
   "execution_count": 29,
   "metadata": {
    "collapsed": false
   },
   "outputs": [],
   "source": [
    "##############################################################################\n",
    "# Plot of a ROC curve for a specific class\n",
    "plt.figure()\n",
    "plt.plot(fpr[1], tpr[1], label='ROC curve (area = %0.2f)' % roc_auc[1])\n",
    "plt.plot([0, 1], [0, 1], 'k--')\n",
    "plt.xlim([0.0, 1.0])\n",
    "plt.ylim([0.0, 1.05])\n",
    "plt.xlabel('False Positive Rate')\n",
    "plt.ylabel('True Positive Rate')\n",
    "#plt.title('Receiver operating characteristic example')\n",
    "plt.legend(loc=\"lower right\")\n",
    "plt.show()"
   ]
  },
  {
   "cell_type": "code",
   "execution_count": null,
   "metadata": {
    "collapsed": true
   },
   "outputs": [],
   "source": []
  },
  {
   "cell_type": "code",
   "execution_count": null,
   "metadata": {
    "collapsed": true
   },
   "outputs": [],
   "source": []
  }
 ],
 "metadata": {
  "kernelspec": {
   "display_name": "Python 3",
   "language": "python",
   "name": "python3"
  },
  "language_info": {
   "codemirror_mode": {
    "name": "ipython",
    "version": 3
   },
   "file_extension": ".py",
   "mimetype": "text/x-python",
   "name": "python",
   "nbconvert_exporter": "python",
   "pygments_lexer": "ipython3",
   "version": "3.5.1"
  }
 },
 "nbformat": 4,
 "nbformat_minor": 0
}
